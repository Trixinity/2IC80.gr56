{
 "cells": [
  {
   "cell_type": "code",
   "execution_count": 20,
   "id": "8541a976",
   "metadata": {},
   "outputs": [],
   "source": [
    "# Imports\n",
    "from scapy.all import *\n",
    "from os import path\n",
    "from os.path import exists\n",
    "import sys\n",
    "import ssl\n",
    "import http.server\n",
    "import socketserver\n",
    "import http.client"
   ]
  },
  {
   "cell_type": "code",
   "execution_count": 21,
   "id": "a34abf30",
   "metadata": {},
   "outputs": [],
   "source": [
    "# Settings\n",
    "port = 3000\n",
    "fallback = 'fallback.html'\n",
    "snapshot_amount = 5\n",
    "localpath = sys.path[0]\n",
    "\n",
    "URL = 'paypal.com' #HTTPS URL to use for SSL example\n",
    "UseURL = False  #Toggle to serving saved snapshot HTMLs if false"
   ]
  },
  {
   "cell_type": "code",
   "execution_count": 22,
   "id": "97c29829",
   "metadata": {},
   "outputs": [],
   "source": [
    "# HTTP Request handling and serving\n",
    "class HttpHandler(http.server.SimpleHTTPRequestHandler):\n",
    "    def _set_headers(self): # Set up the header\n",
    "        self.send_response(200)\n",
    "        self.send_header('Content-Type', 'text/html')\n",
    "        self.send_header('Content-Length', path.getsize(self.getSnapshot()))\n",
    "        self.end_headers()\n",
    "        \n",
    "    def getSnapshot(self): #Retrieve the fallback page or latest available snapshot\n",
    "        latest_snapshot = path.join(sys.path[0], fallback)\n",
    "        for i in range(1, snapshot_amount):\n",
    "            if exists( path.join(sys.path[0] + '\\\\Snapshots\\\\Snapshot_' + str(i) + '.html') ):\n",
    "                latest_snapshot = path.join(sys.path[0] + '\\\\Snapshots\\\\Snapshot_' + str(i) + '.html')\n",
    "        print('Latest snapshot found at ', latest_snapshot)\n",
    "        return latest_snapshot\n",
    "    \n",
    "    def getHtml(self, htmlPath): # Parse the html into bytes\n",
    "        with open(htmlPath, mode='r', encoding='utf-8') as openedHTML:\n",
    "            html = openedHTML.read()\n",
    "        return bytes(html, 'utf-8')\n",
    "    \n",
    "    def do_GET(self): # Serve the html\n",
    "        self._set_headers()\n",
    "        if UseURL:\n",
    "            self.wfile.write(bytes(HttpsGet('paypal.com').read(), 'utf-8'))\n",
    "        else:\n",
    "            self.wfile.write(self.getHtml(self.getSnapshot()))\n",
    "        "
   ]
  },
  {
   "cell_type": "code",
   "execution_count": 23,
   "id": "3cbe63b7",
   "metadata": {},
   "outputs": [],
   "source": [
    "# HTTPS Requesting and receiving\n",
    "def HttpsGet(URL): #Connect using HTTPS to the provided URL\n",
    "    HttpsConnect = http.client.HTTPSConnection(URL, 443)\n",
    "    HttpsConnect.putrequest('GET', '/')\n",
    "    HttpsConnect.endheaders()\n",
    "    HttpsResponse = HttpsConnect.getresponse()\n",
    "    return HttpsResponse"
   ]
  },
  {
   "cell_type": "code",
   "execution_count": null,
   "id": "b6d15276",
   "metadata": {
    "scrolled": true
   },
   "outputs": [
    {
     "name": "stdout",
     "output_type": "stream",
     "text": [
      "Local server started at localhost: 3000\n"
     ]
    },
    {
     "name": "stderr",
     "output_type": "stream",
     "text": [
      "127.0.0.1 - - [20/Jun/2023 14:32:29] \"GET / HTTP/1.1\" 200 -\n"
     ]
    },
    {
     "name": "stdout",
     "output_type": "stream",
     "text": [
      "Latest snapshot found at  D:\\Onedrive\\OCS Python\\Snapshots\\Snapshot_1.html\n",
      "Latest snapshot found at  D:\\Onedrive\\OCS Python\\Snapshots\\Snapshot_1.html\n"
     ]
    },
    {
     "name": "stderr",
     "output_type": "stream",
     "text": [
      "127.0.0.1 - - [20/Jun/2023 14:32:31] \"GET / HTTP/1.1\" 200 -\n"
     ]
    },
    {
     "name": "stdout",
     "output_type": "stream",
     "text": [
      "Latest snapshot found at  D:\\Onedrive\\OCS Python\\Snapshots\\Snapshot_1.html\n",
      "Latest snapshot found at  D:\\Onedrive\\OCS Python\\Snapshots\\Snapshot_1.html\n"
     ]
    }
   ],
   "source": [
    "# Attacker server hosting locally\n",
    "AttackerHandler = HttpHandler\n",
    "with socketserver.TCPServer((\"\", port), AttackerHandler) as httpd:\n",
    "    print(\"Local server started at localhost:\", port)\n",
    "    httpd.serve_forever()"
   ]
  },
  {
   "cell_type": "code",
   "execution_count": 7,
   "id": "6d646411",
   "metadata": {},
   "outputs": [
    {
     "name": "stdout",
     "output_type": "stream",
     "text": [
      "<http.client.HTTPResponse object at 0x0000022D748E7070>\n"
     ]
    }
   ],
   "source": [
    "# Execute all these (Unfunctional, to be implemented afte fixing HTTPS to HTTP serving)\n",
    "print( HttpsGet('paypal.com'))\n"
   ]
  }
 ],
 "metadata": {
  "kernelspec": {
   "display_name": "Python 3 (ipykernel)",
   "language": "python",
   "name": "python3"
  },
  "language_info": {
   "codemirror_mode": {
    "name": "ipython",
    "version": 3
   },
   "file_extension": ".py",
   "mimetype": "text/x-python",
   "name": "python",
   "nbconvert_exporter": "python",
   "pygments_lexer": "ipython3",
   "version": "3.11.2"
  }
 },
 "nbformat": 4,
 "nbformat_minor": 5
}
